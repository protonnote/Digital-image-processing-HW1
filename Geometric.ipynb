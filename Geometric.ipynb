{
 "cells": [
  {
   "cell_type": "code",
   "execution_count": 20,
   "metadata": {},
   "outputs": [],
   "source": [
    "def read_pgm(pgmf):\n",
    "    rs = pgmf.readline()\n",
    "    rd = pgmf.readline()\n",
    "    if str(rd).find('#') != -1 :\n",
    "        rd = pgmf.readline()\n",
    "    (width, height) = [int(i) for i in rd.split()]\n",
    "    depth = int(pgmf.readline())\n",
    "\n",
    "    raster = []\n",
    "    for y in range(height):\n",
    "        row = []\n",
    "        for x in range(width):\n",
    "            row.append(ord(pgmf.read(1)))\n",
    "        raster.append(row)\n",
    "    return raster"
   ]
  },
  {
   "cell_type": "code",
   "execution_count": 36,
   "metadata": {},
   "outputs": [],
   "source": [
    "def writePGM(file, w, h, maxi, flatImg):\n",
    "    file.write('P5\\n'.encode())\n",
    "    file.write('{} {}\\n'.format(w, h).encode())\n",
    "    file.write('{}\\n'.format(maxi).encode())\n",
    "    file.write(bytearray(flatImg))\n",
    "    file.close()"
   ]
  },
  {
   "cell_type": "code",
   "execution_count": 48,
   "metadata": {},
   "outputs": [],
   "source": [
    "pic_1 = open(\"D:/Project/DIP/HW1/4/distgrid.pgm\",\"rb\")\n",
    "pic_1n = read_pgm(pic_1)\n",
    "pic_2 = open(\"D:/Project/DIP/HW1/4/distlenna.pgm\",\"rb\")\n",
    "pic_2n = read_pgm(pic_2)\n",
    "pic_1.close()\n",
    "pic_2.close()"
   ]
  },
  {
   "cell_type": "markdown",
   "metadata": {},
   "source": [
    "Import"
   ]
  },
  {
   "cell_type": "code",
   "execution_count": 23,
   "metadata": {},
   "outputs": [],
   "source": [
    "from numpy.linalg import solve"
   ]
  },
  {
   "cell_type": "markdown",
   "metadata": {},
   "source": [
    "Def"
   ]
  },
  {
   "cell_type": "code",
   "execution_count": 24,
   "metadata": {},
   "outputs": [],
   "source": [
    "class Segment:\n",
    "    def __init__(self,xs,ys):\n",
    "        self.xs = xs\n",
    "        self.ys = ys\n",
    "    \n",
    "def ExpectedGrid():\n",
    "    segments = []\n",
    "    for y in range(0,256,16):\n",
    "        for x in range(0,256,16):\n",
    "            xp = x + 16 if x + 16 < 256 else 255\n",
    "            yp = y + 16 if y + 16 < 256 else 255\n",
    "            xs = [x,xp,x,xp]\n",
    "            ys = [y,y,yp,yp]\n",
    "            segments.append(Segment(xs,ys))\n",
    "    return segments\n",
    "\n",
    "def DistGrid():\n",
    "    segments = []\n",
    "    file = open('./text.txt','r')\n",
    "    for _ in range(256):\n",
    "        xs = [int(x) for x in file.readline().split()]\n",
    "        ys = [int(y) for y in file.readline().split()]\n",
    "        segments.append(Segment(xs,ys))\n",
    "    return segments"
   ]
  },
  {
   "cell_type": "code",
   "execution_count": 25,
   "metadata": {},
   "outputs": [],
   "source": [
    "def tI(num):\n",
    "    return 1 if num%1 >= 0.5 else  0"
   ]
  },
  {
   "cell_type": "code",
   "execution_count": 26,
   "metadata": {},
   "outputs": [],
   "source": [
    "def Interpolation(n, x, y):\n",
    "    x = tI(x);y = tI(y)\n",
    "    return n[y][x]"
   ]
  },
  {
   "cell_type": "code",
   "execution_count": 27,
   "metadata": {},
   "outputs": [],
   "source": [
    "def fillImage(oriimage, image):\n",
    "    d_Grid = DistGrid()\n",
    "    e_Grid = ExpectedGrid()\n",
    "    [fillSegment(d_Grid[i], e_Grid[i], oriimage, image) for i in range(len(d_Grid))]"
   ]
  },
  {
   "cell_type": "code",
   "execution_count": 28,
   "metadata": {},
   "outputs": [],
   "source": [
    "def fillSegment(d_Segment, e_Segment, d_image, image):\n",
    "    ex = e_Segment.xs;ey = e_Segment.ys;dx = d_Segment.xs;dy = d_Segment.ys\n",
    "    abcd, efgh = find_Linear(ex, ey, dx, dy)\n",
    "    for y in range(int(ey[0]), int(ey[-1])):\n",
    "        for x in  range(int(ex[0]), int(ex[-1])):\n",
    "            p_y = find_coordinate(abcd, x, y)\n",
    "            p_x = find_coordinate(efgh, x, y)\n",
    "            _00_, _01_, _10_ ,_11_ = Neighbor(int(p_x), int(p_y), d_image)\n",
    "            image[y][x] = Interpolation([[_00_, _01_],[_10_, _11_]], p_x, p_y)"
   ]
  },
  {
   "cell_type": "code",
   "execution_count": 29,
   "metadata": {},
   "outputs": [],
   "source": [
    "def Neighbor(i, j, image):\n",
    "    return image[i][j],(image[i][j+1] if j + 1 < 256 else 0),(image[i+1][j] if i + 1 < 256 else 0),(image[i+1][j+1] if j +1 < 256 and i +1 < 256 else 0)"
   ]
  },
  {
   "cell_type": "code",
   "execution_count": 30,
   "metadata": {},
   "outputs": [],
   "source": [
    "def find_Linear( ex_x, ex_y,d_x, d_y ):\n",
    "    origin = [[ ex_x[i], ex_y[i], ex_x[i]*ex_y[i], 1] for i in range(-1,-5,-1)]\n",
    "    x = [d_x[i] for i in range(-1, -5, -1)]\n",
    "    y = [d_y[i] for i in range(-1, -5, -1)]\n",
    "    return solve(origin,x) , solve(origin,y)"
   ]
  },
  {
   "cell_type": "code",
   "execution_count": 31,
   "metadata": {},
   "outputs": [],
   "source": [
    "def find_coordinate( co, x, y):\n",
    "    a, b, c, d = co\n",
    "    return a*x + b*y + c*x*y + d "
   ]
  },
  {
   "cell_type": "code",
   "execution_count": 32,
   "metadata": {},
   "outputs": [],
   "source": [
    "def flatten(arr):\n",
    "    return sum(arr, [])"
   ]
  },
  {
   "cell_type": "markdown",
   "metadata": {},
   "source": [
    "Run"
   ]
  },
  {
   "cell_type": "code",
   "execution_count": 44,
   "metadata": {},
   "outputs": [],
   "source": [
    "draft = [[0]*len(pic_1n[0]) for i in range(len(pic_1n))]\n",
    "fillImage(pic_1n, draft)"
   ]
  },
  {
   "cell_type": "code",
   "execution_count": 45,
   "metadata": {},
   "outputs": [],
   "source": [
    "save_dir = open(\"./4/out_grid.pgm\",\"wb\")\n",
    "writePGM(save_dir, len(pic_1n[0]) ,len(pic_1n), 255 , flatten(draft))"
   ]
  },
  {
   "cell_type": "code",
   "execution_count": 49,
   "metadata": {},
   "outputs": [],
   "source": [
    "draft_2 = [[0]*len(pic_2n[0]) for i in range(len(pic_2n))]\n",
    "fillImage(pic_2n, draft_2)"
   ]
  },
  {
   "cell_type": "code",
   "execution_count": 50,
   "metadata": {},
   "outputs": [],
   "source": [
    "save_dir = open(\"./4/out_lenna.pgm\",\"wb\")\n",
    "writePGM(save_dir, len(pic_1n[0]) ,len(pic_1n), 255 , flatten(draft_2))"
   ]
  },
  {
   "cell_type": "code",
   "execution_count": null,
   "metadata": {},
   "outputs": [],
   "source": []
  }
 ],
 "metadata": {
  "interpreter": {
   "hash": "dcacb0086e9a4f4eabd41c33bf4faac5ea0a3337ed3f5eff0680afa930572c04"
  },
  "kernelspec": {
   "display_name": "Python 3.9.8 64-bit",
   "language": "python",
   "name": "python3"
  },
  "language_info": {
   "codemirror_mode": {
    "name": "ipython",
    "version": 3
   },
   "file_extension": ".py",
   "mimetype": "text/x-python",
   "name": "python",
   "nbconvert_exporter": "python",
   "pygments_lexer": "ipython3",
   "version": "3.9.8"
  },
  "orig_nbformat": 4
 },
 "nbformat": 4,
 "nbformat_minor": 2
}
