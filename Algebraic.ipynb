{
 "cells": [
  {
   "cell_type": "code",
   "execution_count": 1,
   "metadata": {},
   "outputs": [],
   "source": [
    "def read_pgm(pgmf):\n",
    "    rs = pgmf.readline()\n",
    "    rd = pgmf.readline()\n",
    "    if str(rd).find('#') != -1 :\n",
    "        rd = pgmf.readline()\n",
    "    (width, height) = [int(i) for i in rd.split()]\n",
    "\n",
    "    raster = []\n",
    "    for y in range(height):\n",
    "        row = []\n",
    "        for x in range(width):\n",
    "            row.append(ord(pgmf.read(1)))\n",
    "        raster.append(row)\n",
    "    return raster"
   ]
  },
  {
   "cell_type": "code",
   "execution_count": 2,
   "metadata": {},
   "outputs": [],
   "source": [
    "def writePGM(file, w, h, depth , flatImg):\n",
    "    file.write('P5\\n'.encode())\n",
    "    file.write('{} {}\\n'.format(w, h).encode())\n",
    "    file.write('{}\\n'.format(depth).encode())\n",
    "    file.write(bytearray(flatImg))\n",
    "    file.close()"
   ]
  },
  {
   "cell_type": "code",
   "execution_count": 3,
   "metadata": {},
   "outputs": [],
   "source": [
    "a = open(\"D:/Project/DIP/HW1/3/SanFranPeak_green.pgm\",'rb')\n",
    "b = open(\"D:/Project/DIP/HW1/3/SanFranPeak_blue.pgm\",'rb')\n",
    "c = open(\"D:/Project/DIP/HW1/3/SanFranPeak_red.pgm\",'rb')\n",
    "green = read_pgm(a)\n",
    "red = read_pgm(c)\n",
    "blue = read_pgm(b)\n",
    "a.close()\n",
    "b.close()\n",
    "c.close()"
   ]
  },
  {
   "cell_type": "markdown",
   "metadata": {},
   "source": [
    "Part def function"
   ]
  },
  {
   "cell_type": "code",
   "execution_count": 4,
   "metadata": {},
   "outputs": [],
   "source": [
    "def boost_color(r,g,b,area):\n",
    "    col,row = area\n",
    "    result = []\n",
    "    for x in range(row):\n",
    "        for y in range(col):\n",
    "            boost = 2*g[x][y] - r[x][y] - b[x][y]\n",
    "            (result.append(boost)) if 0 < boost <= 255 else (result.append(255))  if boost > 255 else result.append(0) \n",
    "    return result"
   ]
  },
  {
   "cell_type": "code",
   "execution_count": 5,
   "metadata": {},
   "outputs": [],
   "source": [
    "def RBDiff(r,b,area):\n",
    "    col,row = area\n",
    "    result = []\n",
    "    for x in range(row):\n",
    "        for y in range(col):\n",
    "            different = r[x][y] - b[x][y]\n",
    "            result.append(different) if different > 0 else result.append(0)\n",
    "    return result"
   ]
  },
  {
   "cell_type": "code",
   "execution_count": 6,
   "metadata": {},
   "outputs": [],
   "source": [
    "def findAvg(r,g,b,area):\n",
    "    col,row = area\n",
    "    result = []\n",
    "    for x in range(row):\n",
    "        for y in range(col):\n",
    "            sum = r[x][y] + g[x][y] + b[x][y]\n",
    "            result.append(int(sum/3))\n",
    "    return result"
   ]
  },
  {
   "cell_type": "markdown",
   "metadata": {},
   "source": [
    "Part check"
   ]
  },
  {
   "cell_type": "code",
   "execution_count": null,
   "metadata": {},
   "outputs": [],
   "source": [
    "area = len(green[0]),len(green)\n",
    "print(boost_color(red,green,blue,area))"
   ]
  },
  {
   "cell_type": "code",
   "execution_count": null,
   "metadata": {},
   "outputs": [],
   "source": [
    "area = len(green[0]),len(green)\n",
    "print(RBDiff(red,blue,area))"
   ]
  },
  {
   "cell_type": "code",
   "execution_count": null,
   "metadata": {},
   "outputs": [],
   "source": [
    "area = len(green[0]),len(green)\n",
    "print(findAvg(red,green,blue,area))"
   ]
  },
  {
   "cell_type": "markdown",
   "metadata": {},
   "source": [
    "save part"
   ]
  },
  {
   "cell_type": "code",
   "execution_count": 11,
   "metadata": {},
   "outputs": [],
   "source": [
    "area = len(green[0]),len(green)\n",
    "x = boost_color(red,green,blue,area)\n",
    "save_dir = open(\"3/test_boost.pgm\",\"wb\")\n",
    "writePGM(save_dir,len(green[0]),len(green),255,x)"
   ]
  },
  {
   "cell_type": "code",
   "execution_count": 107,
   "metadata": {},
   "outputs": [],
   "source": [
    "area = len(green[0]),len(green)\n",
    "x = RBDiff(red,blue,area)\n",
    "save_dir = open(\"3/test_diff.pgm\",\"wb\")\n",
    "writePGM(save_dir,len(green[0]),len(green),255,x)"
   ]
  },
  {
   "cell_type": "code",
   "execution_count": 108,
   "metadata": {},
   "outputs": [],
   "source": [
    "area = len(green[0]),len(green)\n",
    "x = findAvg(red,green,blue,area)\n",
    "save_dir = open(\"3/test_avg.pgm\",\"wb\")\n",
    "writePGM(save_dir,len(green[0]),len(green),255,x)"
   ]
  },
  {
   "cell_type": "code",
   "execution_count": null,
   "metadata": {},
   "outputs": [],
   "source": []
  }
 ],
 "metadata": {
  "interpreter": {
   "hash": "dcacb0086e9a4f4eabd41c33bf4faac5ea0a3337ed3f5eff0680afa930572c04"
  },
  "kernelspec": {
   "display_name": "Python 3.9.8 64-bit",
   "language": "python",
   "name": "python3"
  },
  "language_info": {
   "codemirror_mode": {
    "name": "ipython",
    "version": 3
   },
   "file_extension": ".py",
   "mimetype": "text/x-python",
   "name": "python",
   "nbconvert_exporter": "python",
   "pygments_lexer": "ipython3",
   "version": "3.9.8"
  },
  "orig_nbformat": 4
 },
 "nbformat": 4,
 "nbformat_minor": 2
}
