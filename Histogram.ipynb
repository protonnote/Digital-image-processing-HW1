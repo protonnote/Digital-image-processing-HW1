{
 "cells": [
  {
   "cell_type": "code",
   "execution_count": 1,
   "metadata": {},
   "outputs": [],
   "source": [
    "def read_pgm(pgmf):\n",
    "    rs = pgmf.readline()\n",
    "    rd = pgmf.readline()\n",
    "    if str(rd).find('#') != -1 :\n",
    "        rd = pgmf.readline()\n",
    "    (width, height) = [int(i) for i in rd.split()]\n",
    "    depth = int(pgmf.readline())\n",
    "\n",
    "    raster = []\n",
    "    for y in range(height):\n",
    "        row = []\n",
    "        for x in range(width):\n",
    "            row.append(ord(pgmf.read(1)))\n",
    "        raster.append(row)\n",
    "    return raster"
   ]
  },
  {
   "cell_type": "code",
   "execution_count": 3,
   "metadata": {},
   "outputs": [],
   "source": [
    "file = open(\"./1/scaled_shapes.pgm\",'rb')\n",
    "file_new = read_pgm(file)\n",
    "file.close()\n"
   ]
  },
  {
   "cell_type": "code",
   "execution_count": 4,
   "metadata": {},
   "outputs": [],
   "source": [
    "def Object_detect(pic):\n",
    "    obj = []\n",
    "    different = [ ]\n",
    "    for row in pic:\n",
    "        for pixel in row:\n",
    "           if (pixel not in different) and ( pixel != 255) : different.append(pixel)\n",
    "    turn_array = [x for b in pic for x in b]\n",
    "    for resouce in different:\n",
    "        if turn_array.count(resouce) > 1000 : obj.append(resouce)\n",
    "    return obj"
   ]
  },
  {
   "cell_type": "code",
   "execution_count": 5,
   "metadata": {},
   "outputs": [],
   "source": [
    "ffile = Object_detect(file_new)\n",
    "ffile.sort()"
   ]
  },
  {
   "cell_type": "code",
   "execution_count": 6,
   "metadata": {},
   "outputs": [
    {
     "name": "stdout",
     "output_type": "stream",
     "text": [
      "[0, 80, 120, 160, 200]\n"
     ]
    }
   ],
   "source": [
    "print(ffile)"
   ]
  },
  {
   "cell_type": "code",
   "execution_count": 7,
   "metadata": {},
   "outputs": [],
   "source": [
    "def Obj(pic,level):\n",
    "    return [[1 if j == level else 0 for j in k] for k in pic]"
   ]
  },
  {
   "cell_type": "code",
   "execution_count": 8,
   "metadata": {},
   "outputs": [],
   "source": [
    "def m(pic,p,q) :\n",
    "    sum = 0\n",
    "    w = len(pic[0])\n",
    "    h = len(pic)\n",
    "    for i in range (h) :\n",
    "        for j in range (w) :\n",
    "            sum += (j**p) * (i**q) * pic[i][j]\n",
    "    return sum"
   ]
  },
  {
   "cell_type": "code",
   "execution_count": 9,
   "metadata": {},
   "outputs": [],
   "source": [
    "def u(pic,p,q) :\n",
    "    xx = m(pic,1,0) / m(pic,0,0)\n",
    "    yy = m(pic,0,1) / m(pic,0,0)\n",
    "    sumu = 0\n",
    "    wu = len(pic[0])\n",
    "    hu = len(pic)\n",
    "    for i in range (hu) :\n",
    "        for j in range (wu) :\n",
    "            sumu += ((j-xx)**p) * ((i-yy)**q) * pic[i][j]\n",
    "    return sumu"
   ]
  },
  {
   "cell_type": "code",
   "execution_count": 10,
   "metadata": {},
   "outputs": [],
   "source": [
    "def nn(pic,p,q) :\n",
    "    return u(pic,p,q) / u(pic,0,0)**(((p+q)/2)+1)"
   ]
  },
  {
   "cell_type": "code",
   "execution_count": 11,
   "metadata": {},
   "outputs": [],
   "source": [
    "def free(pic) :\n",
    "    return nn(pic,2,0) + nn(pic,0,2)"
   ]
  },
  {
   "cell_type": "code",
   "execution_count": 12,
   "metadata": {},
   "outputs": [],
   "source": [
    "find = []\n",
    "for level in ffile:\n",
    "    find.append(Obj(file_new,level))"
   ]
  },
  {
   "cell_type": "code",
   "execution_count": 13,
   "metadata": {},
   "outputs": [
    {
     "name": "stdout",
     "output_type": "stream",
     "text": [
      "0.3015\n",
      "0.3012\n",
      "0.2882\n",
      "0.2648\n",
      "0.3177\n"
     ]
    }
   ],
   "source": [
    "for i in find :\n",
    "    print(\"{:.4f}\".format(free(i)))"
   ]
  },
  {
   "cell_type": "code",
   "execution_count": 14,
   "metadata": {},
   "outputs": [],
   "source": [
    "import matplotlib.pyplot as plt"
   ]
  },
  {
   "cell_type": "code",
   "execution_count": 20,
   "metadata": {},
   "outputs": [
    {
     "data": {
      "image/png": "[encoded data removed]",
      "text/plain": [
       "<Figure size 432x288 with 1 Axes>"
      ]
     },
     "metadata": {
      "needs_background": "light"
     },
     "output_type": "display_data"
    }
   ],
   "source": [
    "plt.hist(ffile,256)\n",
    "plt.title(\"Histograms\")\n",
    "plt.show()"
   ]
  },
  {
   "cell_type": "code",
   "execution_count": null,
   "metadata": {},
   "outputs": [],
   "source": []
  }
 ],
 "metadata": {
  "interpreter": {
   "hash": "dcacb0086e9a4f4eabd41c33bf4faac5ea0a3337ed3f5eff0680afa930572c04"
  },
  "kernelspec": {
   "display_name": "Python 3.9.8 64-bit",
   "language": "python",
   "name": "python3"
  },
  "language_info": {
   "codemirror_mode": {
    "name": "ipython",
    "version": 3
   },
   "file_extension": ".py",
   "mimetype": "text/x-python",
   "name": "python",
   "nbconvert_exporter": "python",
   "pygments_lexer": "ipython3",
   "version": "3.9.8"
  },
  "orig_nbformat": 4
 },
 "nbformat": 4,
 "nbformat_minor": 2
}
